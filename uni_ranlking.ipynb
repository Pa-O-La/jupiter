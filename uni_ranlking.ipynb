{
  "nbformat": 4,
  "nbformat_minor": 0,
  "metadata": {
    "colab": {
      "name": "uni-ranlking.ipynb",
      "provenance": [],
      "collapsed_sections": [],
      "authorship_tag": "ABX9TyPSL78TtRLFmO03Mg2GScEr",
      "include_colab_link": true
    },
    "kernelspec": {
      "name": "python3",
      "display_name": "Python 3"
    }
  },
  "cells": [
    {
      "cell_type": "markdown",
      "metadata": {
        "id": "view-in-github",
        "colab_type": "text"
      },
      "source": [
        "<a href=\"https://colab.research.google.com/github/Pa-O-La/jupiter/blob/master/uni_ranlking.ipynb\" target=\"_parent\"><img src=\"https://colab.research.google.com/assets/colab-badge.svg\" alt=\"Open In Colab\"/></a>"
      ]
    },
    {
      "cell_type": "markdown",
      "metadata": {
        "id": "mOIoD2DzQUZb",
        "colab_type": "text"
      },
      "source": [
        "# University Ranking\n",
        "\n",
        "In this notebook we analyse the relation between university ranking and the male-female ratio.\n",
        "\n",
        "We will focus our attention on the Italian university with respect to all the enties in order to investigate the differences.\n",
        "![University](https://github.com/Pa-O-La/jupiter/blob/master/rank_df_img.PNG?raw=1)"
      ]
    },
    {
      "cell_type": "markdown",
      "metadata": {
        "id": "uKNZ-J0FQ20P",
        "colab_type": "text"
      },
      "source": [
        "## Dataset descriprion\n",
        "\n",
        "Ranking universities is a difficult, political, and controversial practice. There are hundreds of different national and international university ranking systems, many of which disagree with each other. \n",
        "The dataset we use in this notebook is based on the Times Higher Education World University.\n",
        "\n",
        "Further details on the ranking system can be found in https://en.wikipedia.org/wiki/College_and_university_rankings.\n",
        "\n",
        "\n",
        "### Dataset source\n",
        "For this notebook, I used the university ranking dataset from the [KAGGLE] site (https://www.kaggle.com/mylesoneill/world-university-rankings#cwurData.csv).\n"
      ]
    },
    {
      "cell_type": "code",
      "metadata": {
        "id": "6ECsjOof6D8y",
        "colab_type": "code",
        "outputId": "c36bfbc2-5421-41bd-8161-7e3d37887ea1",
        "colab": {
          "base_uri": "https://localhost:8080/",
          "height": 204
        }
      },
      "source": [
        "# getting the dataset to local (for google colab)\n",
        "!wget https://raw.githubusercontent.com/Pa-O-La/jupiter/master/timesData.csv"
      ],
      "execution_count": 1,
      "outputs": [
        {
          "output_type": "stream",
          "text": [
            "--2020-05-16 12:41:10--  https://raw.githubusercontent.com/Pa-O-La/jupiter/master/timesData.csv\n",
            "Resolving raw.githubusercontent.com (raw.githubusercontent.com)... 151.101.0.133, 151.101.64.133, 151.101.128.133, ...\n",
            "Connecting to raw.githubusercontent.com (raw.githubusercontent.com)|151.101.0.133|:443... connected.\n",
            "HTTP request sent, awaiting response... 200 OK\n",
            "Length: 268231 (262K) [text/plain]\n",
            "Saving to: ‘timesData.csv.1’\n",
            "\n",
            "timesData.csv.1     100%[===================>] 261.94K  --.-KB/s    in 0.05s   \n",
            "\n",
            "2020-05-16 12:41:12 (4.93 MB/s) - ‘timesData.csv.1’ saved [268231/268231]\n",
            "\n"
          ],
          "name": "stdout"
        }
      ]
    },
    {
      "cell_type": "markdown",
      "metadata": {
        "id": "sj-PdNvBT5W1",
        "colab_type": "text"
      },
      "source": [
        "### Import dataset into the notebook"
      ]
    },
    {
      "cell_type": "code",
      "metadata": {
        "id": "1Tspx1Nz6Vck",
        "colab_type": "code",
        "colab": {}
      },
      "source": [
        "import csv\n",
        "file_name = './timesData.csv'\n",
        "fp = open(file_name)\n",
        "reader = csv.reader(fp)\n",
        "header = next(reader)"
      ],
      "execution_count": 0,
      "outputs": []
    },
    {
      "cell_type": "markdown",
      "metadata": {
        "id": "feDuCAHIVFmM",
        "colab_type": "text"
      },
      "source": [
        "### Daset entries description (name, datatype)"
      ]
    },
    {
      "cell_type": "code",
      "metadata": {
        "id": "KjWqva6NUg9T",
        "colab_type": "code",
        "colab": {
          "base_uri": "https://localhost:8080/",
          "height": 272
        },
        "outputId": "efaed8e0-b8d1-4801-d819-c32ffb15cda0"
      },
      "source": [
        "import pandas as pd\n",
        "url = 'https://raw.githubusercontent.com/Pa-O-La/jupiter/master/timesData.csv'\n",
        "timesdata_pd = pd.read_csv(url)\n",
        "\n",
        "print(timesdata_pd.dtypes)"
      ],
      "execution_count": 3,
      "outputs": [
        {
          "output_type": "stream",
          "text": [
            "world_rank                 object\n",
            "university_name            object\n",
            "country                    object\n",
            "teaching                  float64\n",
            "international              object\n",
            "research                  float64\n",
            "citations                 float64\n",
            "income                     object\n",
            "total_score                object\n",
            "num_students               object\n",
            "student_staff_ratio       float64\n",
            "international_students     object\n",
            "female_male_ratio          object\n",
            "year                        int64\n",
            "dtype: object\n"
          ],
          "name": "stdout"
        }
      ]
    },
    {
      "cell_type": "markdown",
      "metadata": {
        "id": "9a0qKzdSVUfk",
        "colab_type": "text"
      },
      "source": [
        "### Dictionary creation "
      ]
    },
    {
      "cell_type": "code",
      "metadata": {
        "id": "XBQaYCkY69aW",
        "colab_type": "code",
        "colab": {}
      },
      "source": [
        "timesdata = []\n",
        "for line in reader:\n",
        "  d = dict(zip(header, line))\n",
        "  timesdata.append(d)"
      ],
      "execution_count": 0,
      "outputs": []
    },
    {
      "cell_type": "markdown",
      "metadata": {
        "id": "gRnXw5VX8bzg",
        "colab_type": "text"
      },
      "source": [
        "Dataset dimension"
      ]
    },
    {
      "cell_type": "code",
      "metadata": {
        "id": "6EWEDplm8UiY",
        "colab_type": "code",
        "outputId": "6d801f95-9262-4065-8701-16232cfdf973",
        "colab": {
          "base_uri": "https://localhost:8080/",
          "height": 34
        }
      },
      "source": [
        "len(timesdata)"
      ],
      "execution_count": 5,
      "outputs": [
        {
          "output_type": "execute_result",
          "data": {
            "text/plain": [
              "2603"
            ]
          },
          "metadata": {
            "tags": []
          },
          "execution_count": 5
        }
      ]
    },
    {
      "cell_type": "markdown",
      "metadata": {
        "id": "qaO5gSUZ8oqY",
        "colab_type": "text"
      },
      "source": [
        "The first university:"
      ]
    },
    {
      "cell_type": "code",
      "metadata": {
        "id": "vdfna5g18WW0",
        "colab_type": "code",
        "outputId": "4f1ffde1-41e0-48bc-ff67-072087c7bf31",
        "colab": {
          "base_uri": "https://localhost:8080/",
          "height": 153
        }
      },
      "source": [
        "print(timesdata_pd.head())"
      ],
      "execution_count": 6,
      "outputs": [
        {
          "output_type": "stream",
          "text": [
            "  world_rank                        university_name  ... female_male_ratio  year\n",
            "0          1                     Harvard University  ...               NaN  2011\n",
            "1          2     California Institute of Technology  ...           33 : 67  2011\n",
            "2          3  Massachusetts Institute of Technology  ...           37 : 63  2011\n",
            "3          4                    Stanford University  ...           42 : 58  2011\n",
            "4          5                   Princeton University  ...           45 : 55  2011\n",
            "\n",
            "[5 rows x 14 columns]\n"
          ],
          "name": "stdout"
        }
      ]
    },
    {
      "cell_type": "markdown",
      "metadata": {
        "id": "1ZdAPV7T8_Nh",
        "colab_type": "text"
      },
      "source": [
        "## Adding colum with female-male ratio"
      ]
    },
    {
      "cell_type": "markdown",
      "metadata": {
        "id": "raXh1UG-sx3Q",
        "colab_type": "text"
      },
      "source": [
        "We handle the exception where the value is not present"
      ]
    },
    {
      "cell_type": "code",
      "metadata": {
        "id": "OTS15YoU83Sh",
        "colab_type": "code",
        "colab": {}
      },
      "source": [
        "for d in range(0, len(timesdata)):\n",
        "  fmr = None\n",
        "  try:\n",
        "    fmr_vett = timesdata[d]['female_male_ratio'].split(':')\n",
        "    fmr = int(fmr_vett[0]) / int(fmr_vett[1])\n",
        "    timesdata[d]['fmr'] = fmr\n",
        "  except:\n",
        "    timesdata[d]['fmr'] = None"
      ],
      "execution_count": 0,
      "outputs": []
    },
    {
      "cell_type": "markdown",
      "metadata": {
        "id": "IBgPYK0UWgL7",
        "colab_type": "text"
      },
      "source": [
        "Filtering out None values"
      ]
    },
    {
      "cell_type": "code",
      "metadata": {
        "id": "vOZ9ftCX9Pfe",
        "colab_type": "code",
        "colab": {}
      },
      "source": [
        "timesdata_c = [d for d in timesdata if d['fmr'] is not None]"
      ],
      "execution_count": 0,
      "outputs": []
    },
    {
      "cell_type": "markdown",
      "metadata": {
        "id": "5ln0ZJiVDMl_",
        "colab_type": "text"
      },
      "source": [
        "Number of removed None entry"
      ]
    },
    {
      "cell_type": "code",
      "metadata": {
        "id": "syJLvpImA8kA",
        "colab_type": "code",
        "outputId": "0e2f9201-d2a5-4eac-ac78-60a76ddfe465",
        "colab": {
          "base_uri": "https://localhost:8080/",
          "height": 34
        }
      },
      "source": [
        "print('Removed ', len(timesdata) - len(timesdata_c), ' entries')"
      ],
      "execution_count": 9,
      "outputs": [
        {
          "output_type": "stream",
          "text": [
            "Removed  238  entries\n"
          ],
          "name": "stdout"
        }
      ]
    },
    {
      "cell_type": "markdown",
      "metadata": {
        "id": "20S8dd8GW4C-",
        "colab_type": "text"
      },
      "source": [
        "## Preparation of world_rank data"
      ]
    },
    {
      "cell_type": "markdown",
      "metadata": {
        "id": "r3m_e65CdoyQ",
        "colab_type": "text"
      },
      "source": [
        "We count the number of null value of the total score."
      ]
    },
    {
      "cell_type": "code",
      "metadata": {
        "id": "JvTu1liXvYUg",
        "colab_type": "code",
        "colab": {
          "base_uri": "https://localhost:8080/",
          "height": 34
        },
        "outputId": "ee525336-eabf-4589-8d1f-6d5d901880a4"
      },
      "source": [
        "counter = 0\n",
        "for d in timesdata_c:\n",
        "  try:\n",
        "    (float(d['total_score']))\n",
        "  except:\n",
        "    counter +=1\n",
        "\n",
        "print('%f', counter/len(timesdata_c))"
      ],
      "execution_count": 10,
      "outputs": [
        {
          "output_type": "stream",
          "text": [
            "%f 0.5441860465116279\n"
          ],
          "name": "stdout"
        }
      ]
    },
    {
      "cell_type": "markdown",
      "metadata": {
        "id": "8mSXQz17duJt",
        "colab_type": "text"
      },
      "source": [
        "Instead of throwing the 54% of the dataset entries we use as the score value the word ranking position."
      ]
    },
    {
      "cell_type": "markdown",
      "metadata": {
        "id": "gVoJTAi1dmdN",
        "colab_type": "text"
      },
      "source": [
        "Some entries needs homogenization"
      ]
    },
    {
      "cell_type": "code",
      "metadata": {
        "id": "N0zFOiAP0mJB",
        "colab_type": "code",
        "colab": {}
      },
      "source": [
        "for d in timesdata_c:\n",
        "  if (d['world_rank'].isdigit()):\n",
        "    rank_num = float(d['world_rank'])\n",
        "  elif ('-' in d['world_rank']):\n",
        "    #split on '-'\n",
        "    tmp = d['world_rank'].split('-')\n",
        "    rank_num = float(tmp[0]) * 0.5 + float(tmp[1]) * 0.5\n",
        "  elif ('=' in d['world_rank']):\n",
        "    tmp = d['world_rank'].split('=')\n",
        "    rank_num = float(tmp[1]) \n",
        "  else:\n",
        "    rank_num = -1\n",
        "    print(d['world_rank'])\n",
        "  \n",
        "  d['wr_num'] = rank_num "
      ],
      "execution_count": 0,
      "outputs": []
    },
    {
      "cell_type": "markdown",
      "metadata": {
        "id": "C4zrL-WnDrRF",
        "colab_type": "text"
      },
      "source": [
        "## Creation of the Italian data subset"
      ]
    },
    {
      "cell_type": "code",
      "metadata": {
        "id": "IZbvt3oK-f_A",
        "colab_type": "code",
        "colab": {}
      },
      "source": [
        "data_ita = [d for d in timesdata_c if d['country'] == 'Italy']"
      ],
      "execution_count": 0,
      "outputs": []
    },
    {
      "cell_type": "markdown",
      "metadata": {
        "id": "5tVJXFFiXRHF",
        "colab_type": "text"
      },
      "source": [
        "Number of Italian entries (over the yers)"
      ]
    },
    {
      "cell_type": "code",
      "metadata": {
        "id": "UJUwnxJsD4M3",
        "colab_type": "code",
        "outputId": "440670a2-66d2-4829-84f0-0b6c756206a9",
        "colab": {
          "base_uri": "https://localhost:8080/",
          "height": 34
        }
      },
      "source": [
        "len(data_ita)"
      ],
      "execution_count": 13,
      "outputs": [
        {
          "output_type": "execute_result",
          "data": {
            "text/plain": [
              "92"
            ]
          },
          "metadata": {
            "tags": []
          },
          "execution_count": 13
        }
      ]
    },
    {
      "cell_type": "markdown",
      "metadata": {
        "id": "B3Q3CB1mXWfe",
        "colab_type": "text"
      },
      "source": [
        "Retreiving years list of the global dataset"
      ]
    },
    {
      "cell_type": "code",
      "metadata": {
        "id": "bChHV7B8D6Pn",
        "colab_type": "code",
        "outputId": "cb92d0f0-02ac-4aad-b32e-386adcaec4e8",
        "colab": {
          "base_uri": "https://localhost:8080/",
          "height": 34
        }
      },
      "source": [
        "from collections import defaultdict\n",
        "years_g = defaultdict(int)\n",
        "for d in timesdata_c:\n",
        "  years_g[d['year']] += 1\n",
        "\n",
        "print (years_g.keys())"
      ],
      "execution_count": 14,
      "outputs": [
        {
          "output_type": "stream",
          "text": [
            "dict_keys(['2011', '2012', '2013', '2014', '2015', '2016'])\n"
          ],
          "name": "stdout"
        }
      ]
    },
    {
      "cell_type": "markdown",
      "metadata": {
        "id": "FJVJqfUTXhCA",
        "colab_type": "text"
      },
      "source": [
        "Numbers of global entries per year"
      ]
    },
    {
      "cell_type": "code",
      "metadata": {
        "id": "NCG1fBsLEp0E",
        "colab_type": "code",
        "outputId": "b64c5a76-8c79-46c3-c0da-c674b0722142",
        "colab": {
          "base_uri": "https://localhost:8080/",
          "height": 119
        }
      },
      "source": [
        "for d in years_g:\n",
        "  print (d, ' - ', years_g[d])"
      ],
      "execution_count": 15,
      "outputs": [
        {
          "output_type": "stream",
          "text": [
            "2011  -  178\n",
            "2012  -  362\n",
            "2013  -  364\n",
            "2014  -  364\n",
            "2015  -  362\n",
            "2016  -  735\n"
          ],
          "name": "stdout"
        }
      ]
    },
    {
      "cell_type": "markdown",
      "metadata": {
        "id": "9WH00A2LX2V9",
        "colab_type": "text"
      },
      "source": [
        "## Create annual female-male ratio (fmr)\n",
        "We store the global and italian average fmr per year in vectors fmr_g and fmr_i, respectively"
      ]
    },
    {
      "cell_type": "code",
      "metadata": {
        "id": "wZSC-rXdE5nb",
        "colab_type": "code",
        "colab": {}
      },
      "source": [
        "import numpy\n",
        "fmr_g = []\n",
        "fmr_i =[]\n",
        "for y in years_g.keys():\n",
        "  tmp = [d['fmr'] for d in timesdata_c if d['year'] == y]\n",
        "  fmr_mean = numpy.array(tmp).mean()\n",
        "  fmr_g.append(fmr_mean)\n",
        "\n",
        "  tmp_ita = [d['fmr'] for d in data_ita if d['year'] == y]\n",
        "  fmr_mean_ita = 0\n",
        "  if (len(tmp_ita)>0):\n",
        "    fmr_mean_ita = numpy.array(tmp_ita).mean()\n",
        "  fmr_i.append(fmr_mean_ita)"
      ],
      "execution_count": 0,
      "outputs": []
    },
    {
      "cell_type": "markdown",
      "metadata": {
        "id": "909hntRqYVgc",
        "colab_type": "text"
      },
      "source": [
        "# Data Visualization\n",
        "## Plot of the fmr_g and fmr_i over years"
      ]
    },
    {
      "cell_type": "code",
      "metadata": {
        "id": "5cdSWS10Hytj",
        "colab_type": "code",
        "outputId": "2357ca81-9658-481f-e98b-6be0cd74593b",
        "colab": {
          "base_uri": "https://localhost:8080/",
          "height": 295
        }
      },
      "source": [
        "import matplotlib.pyplot as plt\n",
        "\n",
        "X = list(years_g.keys())\n",
        "plt.plot(X, fmr_g, label = 'global')\n",
        "plt.plot(X[1:], fmr_i[1:], label = 'italian')\n",
        "plt.ylim([1, 1.4])\n",
        "plt.legend()\n",
        "plt.ylabel('fmr')\n",
        "plt.title('Female male ratio over years')\n",
        "plt.xlabel('year');"
      ],
      "execution_count": 17,
      "outputs": [
        {
          "output_type": "display_data",
          "data": {
            "image/png": "[encoded data removed]",
            "text/plain": [
              "<Figure size 432x288 with 1 Axes>"
            ]
          },
          "metadata": {
            "tags": [],
            "needs_background": "light"
          }
        }
      ]
    },
    {
      "cell_type": "markdown",
      "metadata": {
        "id": "AYaNqlxXYk_z",
        "colab_type": "text"
      },
      "source": [
        "The plot show that the italian average fmr is higher than the global one"
      ]
    },
    {
      "cell_type": "markdown",
      "metadata": {
        "id": "54fGYrFcZRjT",
        "colab_type": "text"
      },
      "source": [
        "## Evolution of the global and the italian fmr through years"
      ]
    },
    {
      "cell_type": "code",
      "metadata": {
        "id": "m7lswkPTu5Kk",
        "colab_type": "code",
        "colab": {
          "base_uri": "https://localhost:8080/",
          "height": 492
        },
        "outputId": "957b2f7c-23ce-4a17-ca2a-7d8d0a8079fb"
      },
      "source": [
        "# in the years\n",
        "\n",
        "fig, axs = plt.subplots(2, 3)\n",
        "fig.set_size_inches(10, 7)\n",
        "\n",
        "c = 0\n",
        "for yy in years_g.keys(): \n",
        "\n",
        "  data_per_year_g = [d for d in timesdata_c if d['year'] == yy]\n",
        "  ranking_y_g = numpy.array([float(d['wr_num']) for d in data_per_year_g])\n",
        "  fmr_y_g = numpy.array([d['fmr'] for d in data_per_year_g])\n",
        "\n",
        "  data_per_year_i = [d for d in data_ita if d['year'] == yy]\n",
        "  ranking_y_i = numpy.array([float(d['wr_num']) for d in data_per_year_i])\n",
        "  fmr_y_i = numpy.array([d['fmr'] for d in data_per_year_i])\n",
        "\n",
        "\n",
        "  axs[c//3, c%3].scatter(ranking_y_g, fmr_y_g, label= 'global')\n",
        "  axs[c//3, c%3].scatter(ranking_y_i, fmr_y_i, label = 'italy')\n",
        "\n",
        "  axs[c//3, c%3].set_title('year %s' %yy)\n",
        "  axs[c//3, c%3].set_xlim([0, 450])\n",
        "  axs[c//3, c%3].set_ylim([0, 2.5])\n",
        "  axs[c//3, c%3].legend()\n",
        "  c += 1\n",
        "\n",
        "fig.subplots_adjust(left=0.08, right=0.98, bottom=0.05, top=0.9, hspace=0.4, wspace=0.3)\n"
      ],
      "execution_count": 18,
      "outputs": [
        {
          "output_type": "display_data",
          "data": {
            "image/png": "[encoded data removed]",
            "text/plain": [
              "<Figure size 720x504 with 6 Axes>"
            ]
          },
          "metadata": {
            "tags": [],
            "needs_background": "light"
          }
        }
      ]
    },
    {
      "cell_type": "markdown",
      "metadata": {
        "id": "SID7TpNhZoFw",
        "colab_type": "text"
      },
      "source": [
        "The panel shows that through years the average score of italian university increases.\n",
        "\n",
        "We can also notice that the majority of the entries are clustered around the average value."
      ]
    },
    {
      "cell_type": "markdown",
      "metadata": {
        "id": "r5GVyafpaXdl",
        "colab_type": "text"
      },
      "source": [
        "### Focusing\n",
        "We now focus the attention on 2016"
      ]
    },
    {
      "cell_type": "code",
      "metadata": {
        "id": "1kQeLJLTEnLD",
        "colab_type": "code",
        "colab": {
          "base_uri": "https://localhost:8080/",
          "height": 312
        },
        "outputId": "2e0b86a1-a283-442c-d568-59f7a942458b"
      },
      "source": [
        "# 2016\n",
        "yy='2016'\n",
        "data_2016_g = [d for d in timesdata_c if d['year'] == yy]\n",
        "ranking_2016_g = numpy.array([float(d['wr_num']) for d in data_2016_g])\n",
        "fmr_2016_g = numpy.array([d['fmr'] for d in data_2016_g])\n",
        "\n",
        "data_2016_i = [d for d in data_ita if d['year'] == yy]\n",
        "ranking_2016_i = numpy.array([float(d['wr_num']) for d in data_2016_i])\n",
        "fmr_2016_i = numpy.array([d['fmr'] for d in data_2016_i])\n",
        "\n",
        "plt.plot([0, 250], [fmr_g[-1],fmr_g[-1]], color= 'cyan' , label = 'global average')\n",
        "plt.scatter(ranking_2016_g, fmr_2016_g, label= 'global')\n",
        "plt.scatter(ranking_2016_i, fmr_2016_i, label = 'italy')\n",
        "\n",
        "plt.title('Female-male ratio for year %s' %yy)\n",
        "plt.xlim([0, 250])\n",
        "plt.ylim([0, 2.5])\n",
        "plt.legend()\n",
        "plt.xlabel('world rank')\n",
        "plt.ylabel('fmr')\n"
      ],
      "execution_count": 19,
      "outputs": [
        {
          "output_type": "execute_result",
          "data": {
            "text/plain": [
              "Text(0, 0.5, 'fmr')"
            ]
          },
          "metadata": {
            "tags": []
          },
          "execution_count": 19
        },
        {
          "output_type": "display_data",
          "data": {
            "image/png": "[encoded data removed]",
            "text/plain": [
              "<Figure size 432x288 with 1 Axes>"
            ]
          },
          "metadata": {
            "tags": [],
            "needs_background": "light"
          }
        }
      ]
    },
    {
      "cell_type": "markdown",
      "metadata": {
        "id": "x3nOJ4MXal5j",
        "colab_type": "text"
      },
      "source": [
        "We remark that the lower the rank, the higher the position.\n",
        "\n",
        "We notice that while the majority of the entries are round the average value, the firsts entries are remarkably below. \n",
        "\n",
        "We also notice that all the italian entries, within the first 200, are below the global average."
      ]
    },
    {
      "cell_type": "markdown",
      "metadata": {
        "id": "GXqhC5ofbQyB",
        "colab_type": "text"
      },
      "source": [
        "## Looking for a trend\n",
        "We split the dataset in group of 10 entries.\n",
        "Each group contains 10 entries of the university sorted by the rank."
      ]
    },
    {
      "cell_type": "code",
      "metadata": {
        "id": "i6_4utJJJnJe",
        "colab_type": "code",
        "colab": {
          "base_uri": "https://localhost:8080/",
          "height": 295
        },
        "outputId": "8514aa9f-83d7-4ef6-d0ed-417487b6e7c7"
      },
      "source": [
        "c_fmr = [] \n",
        "\n",
        "lowlim = 0 \n",
        "for c in range (10,100,10):\n",
        "  uplim = c\n",
        "  temp = [d['fmr'] for d in data_2016_g if d['wr_num'] > lowlim and d['wr_num'] < uplim ]\n",
        "  c_fmr.append(temp)\n",
        "  lowlim = c\n",
        "\n",
        "plt.boxplot(c_fmr);\n",
        "plt.title('Female male ratio over rank')\n",
        "plt.ylabel('female-male ratio')\n",
        "plt.xlabel('rank (group by 10)')\n",
        "plt.xticks(range(1, 10), range (10,100,10));"
      ],
      "execution_count": 20,
      "outputs": [
        {
          "output_type": "display_data",
          "data": {
            "image/png": "[encoded data removed]",
            "text/plain": [
              "<Figure size 432x288 with 1 Axes>"
            ]
          },
          "metadata": {
            "tags": [],
            "needs_background": "light"
          }
        }
      ]
    },
    {
      "cell_type": "markdown",
      "metadata": {
        "id": "n_sQ5fhfcoIO",
        "colab_type": "text"
      },
      "source": [
        "We notice that by grouping the data, the first entries exhibit a lower average fmr with respect to the global one. "
      ]
    }
  ]
}